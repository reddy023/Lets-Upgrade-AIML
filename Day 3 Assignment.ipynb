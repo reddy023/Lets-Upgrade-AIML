{
 "cells": [
  {
   "cell_type": "markdown",
   "metadata": {},
   "source": [
    "# LetsUpgrade Day 3"
   ]
  },
  {
   "cell_type": "code",
   "execution_count": 2,
   "metadata": {},
   "outputs": [],
   "source": [
    "import pandas as pd\n",
    "import numpy as np"
   ]
  },
  {
   "cell_type": "markdown",
   "metadata": {},
   "source": [
    "## Write a program to substract two complex numbers  in python"
   ]
  },
  {
   "cell_type": "code",
   "execution_count": 1,
   "metadata": {},
   "outputs": [
    {
     "name": "stdout",
     "output_type": "stream",
     "text": [
      "First complex number is: (3+4j)\n",
      "Second complect number is: (5+3j)\n",
      "Substraction of 'a' and 'b' is : (-2+1j)\n"
     ]
    }
   ],
   "source": [
    "a = 3+4j\n",
    "b = 5+3j\n",
    "\n",
    "print('First complex number is:',a)\n",
    "print('Second complect number is:',b)\n",
    "\n",
    "c = a - b\n",
    "\n",
    "print(\"Substraction of 'a' and 'b' is :\", c)"
   ]
  },
  {
   "cell_type": "markdown",
   "metadata": {},
   "source": [
    "## Write a program to find the fourth root of a number."
   ]
  },
  {
   "cell_type": "code",
   "execution_count": 7,
   "metadata": {},
   "outputs": [
    {
     "name": "stdout",
     "output_type": "stream",
     "text": [
      "The number to find the fourth root : 20736\n",
      "The fourth root of  20736  is : 12.0\n"
     ]
    }
   ],
   "source": [
    "import math\n",
    "\n",
    "num = 20736\n",
    "print('The number to find the fourth root :', num)\n",
    "\n",
    "fourth_root = math.sqrt(math.sqrt(num))\n",
    "\n",
    "print(\"The fourth root of \", num,\" is :\", fourth_root)"
   ]
  },
  {
   "cell_type": "markdown",
   "metadata": {},
   "source": [
    "## Write a program to swap two numbers in Python with the help of a temporary variable."
   ]
  },
  {
   "cell_type": "code",
   "execution_count": 14,
   "metadata": {},
   "outputs": [
    {
     "name": "stdout",
     "output_type": "stream",
     "text": [
      "The values of 'x' and 'y' before swapping : (10, 25)\n",
      "The values of 'x' and 'y', after swapping : (25, 10)\n"
     ]
    }
   ],
   "source": [
    "x = 10\n",
    "y = 25\n",
    "\n",
    "print(\"The values of 'x' and 'y' before swapping :\", (x,y))\n",
    "\n",
    "temp = x\n",
    "x = y\n",
    "y = temp\n",
    "\n",
    "print(\"The values of 'x' and 'y', after swapping :\",(x,y))"
   ]
  },
  {
   "cell_type": "markdown",
   "metadata": {},
   "source": [
    "## Write a program to swap two numbers in Python without using a temporary variable."
   ]
  },
  {
   "cell_type": "code",
   "execution_count": 15,
   "metadata": {},
   "outputs": [
    {
     "name": "stdout",
     "output_type": "stream",
     "text": [
      "The values of 'x' and 'y' before swapping : (15, 30)\n",
      "The values of 'x' and 'y' after swapping : (30, 15)\n"
     ]
    }
   ],
   "source": [
    "x = 15\n",
    "y = 30\n",
    "\n",
    "print(\"The values of 'x' and 'y' before swapping :\",(x,y))\n",
    "\n",
    "x,y = y,x\n",
    "\n",
    "print(\"The values of 'x' and 'y' after swapping :\",(x,y))"
   ]
  },
  {
   "cell_type": "markdown",
   "metadata": {},
   "source": [
    "## Write a program to convert fahrenheit to kelvin and celsius both."
   ]
  },
  {
   "cell_type": "code",
   "execution_count": 22,
   "metadata": {},
   "outputs": [
    {
     "name": "stdout",
     "output_type": "stream",
     "text": [
      "The temperature in fahrenheit is : 124\n",
      "The temparature in celsius is : 51.111\n",
      "The temperature in kelvin is : 324.261\n"
     ]
    }
   ],
   "source": [
    "fahrenheit = 124\n",
    "print('The temperature in fahrenheit is :', fahrenheit)\n",
    "celsius = (fahrenheit -32 ) *(5/9)\n",
    "print('The temparature in celsius is :', round(celsius,3))\n",
    "\n",
    "kelvin = (fahrenheit -32 ) *(5/9) + 273.15\n",
    "\n",
    "print('The temperature in kelvin is :',round(kelvin, 3))"
   ]
  },
  {
   "cell_type": "markdown",
   "metadata": {},
   "source": [
    "## Write a program to demonstrate all the available data types in Python"
   ]
  },
  {
   "cell_type": "code",
   "execution_count": 23,
   "metadata": {},
   "outputs": [
    {
     "name": "stdout",
     "output_type": "stream",
     "text": [
      "The data type of 'a': <class 'int'>\n",
      "The data type of 'b': <class 'float'>\n",
      "The data type of 'c': <class 'complex'>\n",
      "The data type of 'd': <class 'bool'>\n",
      "The data type of 'string': <class 'str'>\n",
      "The data type of 'lst': <class 'list'>\n",
      "The data type of 'tup': <class 'tuple'>\n",
      "The data type of 'mydict': <class 'dict'>\n",
      "The data type of 'myset': <class 'set'>\n"
     ]
    }
   ],
   "source": [
    "a = 2\n",
    "b = 3.0\n",
    "c = 4+2j\n",
    "d = True\n",
    "string = 'reddy'\n",
    "lst = [1,2,3]\n",
    "tup = (4,5,6)\n",
    "mydict = {'a':1,'b':2}\n",
    "myset = {1,2,'a','b'}\n",
    "\n",
    "print(\"The data type of 'a':\", type(a))\n",
    "print(\"The data type of 'b':\", type(b))\n",
    "print(\"The data type of 'c':\", type(c))\n",
    "print(\"The data type of 'd':\", type(d))\n",
    "print(\"The data type of 'string':\", type(string))\n",
    "print(\"The data type of 'lst':\", type(lst))\n",
    "print(\"The data type of 'tup':\", type(tup))\n",
    "print(\"The data type of 'mydict':\", type(mydict))\n",
    "print(\"The data type of 'myset':\", type(myset))\n"
   ]
  },
  {
   "cell_type": "code",
   "execution_count": null,
   "metadata": {},
   "outputs": [],
   "source": []
  },
  {
   "cell_type": "code",
   "execution_count": null,
   "metadata": {},
   "outputs": [],
   "source": []
  },
  {
   "cell_type": "code",
   "execution_count": null,
   "metadata": {},
   "outputs": [],
   "source": []
  },
  {
   "cell_type": "code",
   "execution_count": null,
   "metadata": {},
   "outputs": [],
   "source": []
  }
 ],
 "metadata": {
  "kernelspec": {
   "display_name": "Python 3",
   "language": "python",
   "name": "python3"
  },
  "language_info": {
   "codemirror_mode": {
    "name": "ipython",
    "version": 3
   },
   "file_extension": ".py",
   "mimetype": "text/x-python",
   "name": "python",
   "nbconvert_exporter": "python",
   "pygments_lexer": "ipython3",
   "version": "3.7.7"
  },
  "toc": {
   "base_numbering": 1,
   "nav_menu": {},
   "number_sections": true,
   "sideBar": true,
   "skip_h1_title": false,
   "title_cell": "Table of Contents",
   "title_sidebar": "Contents",
   "toc_cell": false,
   "toc_position": {},
   "toc_section_display": true,
   "toc_window_display": false
  }
 },
 "nbformat": 4,
 "nbformat_minor": 4
}
