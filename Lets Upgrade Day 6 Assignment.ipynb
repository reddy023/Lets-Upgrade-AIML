{
 "cells": [
  {
   "cell_type": "markdown",
   "metadata": {},
   "source": [
    "# Assignment Day 6"
   ]
  },
  {
   "cell_type": "markdown",
   "metadata": {},
   "source": [
    "## Assuming that we have some email addresses in the \"username@companyname.com\" format, please write program to print the company name of a given email address. Both user names and company names are composed of letters only."
   ]
  },
  {
   "cell_type": "code",
   "execution_count": 3,
   "metadata": {},
   "outputs": [
    {
     "name": "stdout",
     "output_type": "stream",
     "text": [
      "Enter the email address :\n",
      "reddy@hotmail.com\n",
      "The name extracted is : hotmail\n"
     ]
    }
   ],
   "source": [
    "email = input(\"Enter the email address :\\n\")\n",
    "name = email.split('@')[1].split('.')[0]\n",
    "print('The name extracted is :', name)"
   ]
  },
  {
   "cell_type": "markdown",
   "metadata": {},
   "source": [
    "## Write a program that accepts a comma-separated sequence of words as input and prints the words in a comma separated sequence after sorting them alphabetically."
   ]
  },
  {
   "cell_type": "code",
   "execution_count": 4,
   "metadata": {},
   "outputs": [
    {
     "name": "stdout",
     "output_type": "stream",
     "text": [
      "Input words: without,hello,bag,world\n",
      "bag, hello, without, world\n"
     ]
    }
   ],
   "source": [
    "phrase = input(\"Input words: \")\n",
    "\n",
    "phrase_list = phrase.split(\",\")\n",
    "phrase_list.sort()\n",
    "print((', ').join(phrase_list))"
   ]
  },
  {
   "cell_type": "code",
   "execution_count": 8,
   "metadata": {},
   "outputs": [
    {
     "name": "stdout",
     "output_type": "stream",
     "text": [
      "without,hello,bag,world\n",
      "bag,hello,without,world\n"
     ]
    }
   ],
   "source": [
    "items = [x for x in input().split(',')]\n",
    "items.sort()\n",
    "print((',').join(items))"
   ]
  },
  {
   "cell_type": "markdown",
   "metadata": {},
   "source": [
    "## Create your own Jupyter Notebook for Sets.\n"
   ]
  },
  {
   "cell_type": "code",
   "execution_count": 90,
   "metadata": {},
   "outputs": [
    {
     "name": "stdout",
     "output_type": "stream",
     "text": [
      "{'a', 'f', 'e', 'c', 'd', 'g', 'b'}\n"
     ]
    }
   ],
   "source": [
    "#set = set is an unordered collection of elements which unindexed,iterable and duplicates are not allowed \n",
    "s1 = {'a','a','b','c','d','e','f','f','g'}\n",
    "print(s1)"
   ]
  },
  {
   "cell_type": "code",
   "execution_count": 91,
   "metadata": {},
   "outputs": [
    {
     "name": "stdout",
     "output_type": "stream",
     "text": [
      "{'a', 'f', 'h', 'e', 'c', 'd', 'g', 'b'}\n"
     ]
    }
   ],
   "source": [
    "# add method adds a given element to a set if the element is not present in the set.\n",
    "s1.add('h')\n",
    "print(s1)"
   ]
  },
  {
   "cell_type": "code",
   "execution_count": 92,
   "metadata": {},
   "outputs": [],
   "source": [
    "#clear method removes all elements from the set.\n",
    "s1.clear()"
   ]
  },
  {
   "cell_type": "code",
   "execution_count": 93,
   "metadata": {},
   "outputs": [
    {
     "name": "stdout",
     "output_type": "stream",
     "text": [
      "set()\n"
     ]
    }
   ],
   "source": [
    "print(s1)"
   ]
  },
  {
   "cell_type": "code",
   "execution_count": 94,
   "metadata": {},
   "outputs": [
    {
     "name": "stdout",
     "output_type": "stream",
     "text": [
      "{1, 2, 3, 4, 'a', 'c', 'd', 'b'}\n"
     ]
    }
   ],
   "source": [
    "s2 = {1,2,3,4,3,'a','b','c','d','a'}\n",
    "print(s2)"
   ]
  },
  {
   "cell_type": "code",
   "execution_count": 95,
   "metadata": {},
   "outputs": [
    {
     "name": "stdout",
     "output_type": "stream",
     "text": [
      "{1, 2, 3, 4, 'a', 'c', 'd', 'b'}\n"
     ]
    }
   ],
   "source": [
    "#copy method will return a new set which is the exact duplicate of original set\n",
    "s3 = s2.copy()\n",
    "print(s3)"
   ]
  },
  {
   "cell_type": "code",
   "execution_count": 96,
   "metadata": {},
   "outputs": [
    {
     "name": "stdout",
     "output_type": "stream",
     "text": [
      "{1, 3, 5, 6, 'f', 'e', 'c', 'd', 'g'}\n"
     ]
    }
   ],
   "source": [
    "s4 = {1,3,5,6,'c','d','e','f','g'}\n",
    "print(s4)"
   ]
  },
  {
   "cell_type": "code",
   "execution_count": 97,
   "metadata": {},
   "outputs": [
    {
     "name": "stdout",
     "output_type": "stream",
     "text": [
      "{1, 2, 3, 4, 'a', 'c', 'd', 'b'}\n"
     ]
    }
   ],
   "source": [
    "print(s3)"
   ]
  },
  {
   "cell_type": "code",
   "execution_count": 98,
   "metadata": {},
   "outputs": [
    {
     "data": {
      "text/plain": [
       "{2, 4, 'a', 'b'}"
      ]
     },
     "execution_count": 98,
     "metadata": {},
     "output_type": "execute_result"
    }
   ],
   "source": [
    "#difference method returns a set that contains the difference between two sets. \n",
    "#Meaning: The returned set contains items that exist only in the first set, and not in both sets.\n",
    "s3.difference(s4)"
   ]
  },
  {
   "cell_type": "code",
   "execution_count": 100,
   "metadata": {},
   "outputs": [
    {
     "name": "stdout",
     "output_type": "stream",
     "text": [
      "{2, 4, 'a', 'b'}\n"
     ]
    }
   ],
   "source": [
    "#difference_update() method removes the items that exist in both sets.\n",
    "s3.difference_update(s4)\n",
    "print(s3)"
   ]
  },
  {
   "cell_type": "code",
   "execution_count": 101,
   "metadata": {},
   "outputs": [
    {
     "name": "stdout",
     "output_type": "stream",
     "text": [
      "{1, 3, 5, 6, 'f', 'e', 'c', 'd', 'g'}\n"
     ]
    }
   ],
   "source": [
    "print(s4)"
   ]
  },
  {
   "cell_type": "code",
   "execution_count": 103,
   "metadata": {},
   "outputs": [
    {
     "name": "stdout",
     "output_type": "stream",
     "text": [
      "{1, 3, 5, 6, 'e', 'c', 'd', 'g'}\n"
     ]
    }
   ],
   "source": [
    "#discard method removes the specified item from the set.\n",
    "s4.discard('f')\n",
    "print(s4)"
   ]
  },
  {
   "cell_type": "code",
   "execution_count": 104,
   "metadata": {},
   "outputs": [
    {
     "name": "stdout",
     "output_type": "stream",
     "text": [
      "{1, 3, 5, 6, 'e', 'c', 'd', 'g'}\n"
     ]
    }
   ],
   "source": [
    "s4.discard(4)  # we will not get error if the values is not present also this is the difference between remove and discard\n",
    "print(s4)"
   ]
  },
  {
   "cell_type": "code",
   "execution_count": 105,
   "metadata": {},
   "outputs": [
    {
     "data": {
      "text/plain": [
       "set()"
      ]
     },
     "execution_count": 105,
     "metadata": {},
     "output_type": "execute_result"
    }
   ],
   "source": [
    "#intersection method returns a new set with elements that are common to all sets.\n",
    "\n",
    "s4.intersection(s3)"
   ]
  },
  {
   "cell_type": "code",
   "execution_count": 106,
   "metadata": {},
   "outputs": [
    {
     "name": "stdout",
     "output_type": "stream",
     "text": [
      "{1, 3, 'a', 5, 6, 'f', 'h', 9, 14, 15, 'd', 'b'}\n"
     ]
    }
   ],
   "source": [
    "s = {1,3,5,6,'a','d','b','f','h',9,15,14}\n",
    "print(s)"
   ]
  },
  {
   "cell_type": "code",
   "execution_count": 107,
   "metadata": {},
   "outputs": [
    {
     "data": {
      "text/plain": [
       "{1, 3, 5, 6, 'd'}"
      ]
     },
     "execution_count": 107,
     "metadata": {},
     "output_type": "execute_result"
    }
   ],
   "source": [
    "s4.intersection(s)"
   ]
  },
  {
   "cell_type": "code",
   "execution_count": 109,
   "metadata": {},
   "outputs": [
    {
     "name": "stdout",
     "output_type": "stream",
     "text": [
      "{1, 3, 5, 6, 'd'}\n"
     ]
    }
   ],
   "source": [
    "#intersection_update method removes the items that is not present in both sets\n",
    "\n",
    "s.intersection_update(s4)\n",
    "print(s)"
   ]
  },
  {
   "cell_type": "code",
   "execution_count": 110,
   "metadata": {},
   "outputs": [
    {
     "data": {
      "text/plain": [
       "False"
      ]
     },
     "execution_count": 110,
     "metadata": {},
     "output_type": "execute_result"
    }
   ],
   "source": [
    "#Set isdisjoint method checks whether the two sets are disjoint sets or not. \n",
    "#If the sets are disjoint, this method returns true else it returns false.\n",
    "#Two sets are said to be disjoint if they do not have any common elements.\n",
    "\n",
    "s4.isdisjoint(s)"
   ]
  },
  {
   "cell_type": "code",
   "execution_count": 111,
   "metadata": {},
   "outputs": [
    {
     "data": {
      "text/plain": [
       "True"
      ]
     },
     "execution_count": 111,
     "metadata": {},
     "output_type": "execute_result"
    }
   ],
   "source": [
    "s.isdisjoint(s1)   # this is disjoint set since the set s is an empty set"
   ]
  },
  {
   "cell_type": "code",
   "execution_count": 112,
   "metadata": {},
   "outputs": [
    {
     "data": {
      "text/plain": [
       "False"
      ]
     },
     "execution_count": 112,
     "metadata": {},
     "output_type": "execute_result"
    }
   ],
   "source": [
    "#The issubset method in Python checks whether a given Set is a subset of another specified Set. \n",
    "#If all the elements of a given Set is present in another Set then the given set is called the subset of another Set.\n",
    "\n",
    "s4.issubset(s)"
   ]
  },
  {
   "cell_type": "code",
   "execution_count": 113,
   "metadata": {},
   "outputs": [],
   "source": [
    "s = {1,3,5,'d','e'}"
   ]
  },
  {
   "cell_type": "code",
   "execution_count": 114,
   "metadata": {},
   "outputs": [
    {
     "data": {
      "text/plain": [
       "True"
      ]
     },
     "execution_count": 114,
     "metadata": {},
     "output_type": "execute_result"
    }
   ],
   "source": [
    "s.issubset(s4)  # all the elemnts of the set s is present in set s4"
   ]
  },
  {
   "cell_type": "code",
   "execution_count": 115,
   "metadata": {},
   "outputs": [
    {
     "data": {
      "text/plain": [
       "True"
      ]
     },
     "execution_count": 115,
     "metadata": {},
     "output_type": "execute_result"
    }
   ],
   "source": [
    "#The issuperset method returns True if a set has every elements of another set\n",
    "#issuperset method returns True if all elements of a set A occupies set B which is passed as an argument \n",
    "#and returns false if all elements of B not present in A.\n",
    "\n",
    "s4.issuperset(s)"
   ]
  },
  {
   "cell_type": "code",
   "execution_count": 116,
   "metadata": {},
   "outputs": [
    {
     "data": {
      "text/plain": [
       "1"
      ]
     },
     "execution_count": 116,
     "metadata": {},
     "output_type": "execute_result"
    }
   ],
   "source": [
    "#pop method removes a random element from the set and returns the removed element.\n",
    "\n",
    "s4.pop()"
   ]
  },
  {
   "cell_type": "code",
   "execution_count": 117,
   "metadata": {},
   "outputs": [],
   "source": [
    "#remove method removes the element from the set only if the element is present in the set.\n",
    "#Just as the discard method does but If the element is not present in the set, then an error or exception is raised.\n",
    "\n",
    "s4.remove('e')"
   ]
  },
  {
   "cell_type": "code",
   "execution_count": 118,
   "metadata": {},
   "outputs": [
    {
     "data": {
      "text/plain": [
       "{3, 5, 6, 'c', 'd', 'g'}"
      ]
     },
     "execution_count": 118,
     "metadata": {},
     "output_type": "execute_result"
    }
   ],
   "source": [
    "s4"
   ]
  },
  {
   "cell_type": "code",
   "execution_count": 119,
   "metadata": {},
   "outputs": [
    {
     "data": {
      "text/plain": [
       "{1, 6, 'c', 'e', 'g'}"
      ]
     },
     "execution_count": 119,
     "metadata": {},
     "output_type": "execute_result"
    }
   ],
   "source": [
    "# symmetric difference method returns the symmetric difference of two sets. \n",
    "#The symmetric difference of two sets A and B is the set of elements that are in either A or B , but not in their intersection.\n",
    "\n",
    "s4.symmetric_difference(s)"
   ]
  },
  {
   "cell_type": "code",
   "execution_count": 120,
   "metadata": {},
   "outputs": [],
   "source": [
    "#symmetric_difference_update returns a new set or updates the existing set which is a symmetric difference of two given sets\n",
    "\n",
    "s.symmetric_difference_update(s4)"
   ]
  },
  {
   "cell_type": "code",
   "execution_count": 121,
   "metadata": {},
   "outputs": [
    {
     "data": {
      "text/plain": [
       "{1, 3, 5, 6, 'c', 'd', 'e', 'g'}"
      ]
     },
     "execution_count": 121,
     "metadata": {},
     "output_type": "execute_result"
    }
   ],
   "source": [
    "#union method returns a set that contains all items from the original set, and all items from the specified sets\n",
    "\n",
    "s4.union(s)"
   ]
  },
  {
   "cell_type": "code",
   "execution_count": 122,
   "metadata": {},
   "outputs": [],
   "source": [
    "#update method in set adds elements from a set (passed as an argument) to the set.\n",
    "\n",
    "s4.update('h')"
   ]
  },
  {
   "cell_type": "markdown",
   "metadata": {},
   "source": [
    "## Given a list of n-1 numbers ranging from 1 to n, your task is to find the missing number. There are no duplicates."
   ]
  },
  {
   "cell_type": "code",
   "execution_count": 58,
   "metadata": {},
   "outputs": [
    {
     "name": "stdout",
     "output_type": "stream",
     "text": [
      "Entet the list elements:1 3 5 6 7 9 10 11 12\n",
      "2 4 "
     ]
    }
   ],
   "source": [
    "List= list(map(int,input('Entet the list elements:').split(' ')))\n",
    "for I in range(1,len(List)-1):\n",
    "    if I not in List:\n",
    "        print(I,end = ' ')"
   ]
  },
  {
   "cell_type": "code",
   "execution_count": 73,
   "metadata": {},
   "outputs": [
    {
     "name": "stdout",
     "output_type": "stream",
     "text": [
      "Entet the list elements:1 2 4 6 3 7 8\n",
      "The missing values :\n",
      "5 "
     ]
    }
   ],
   "source": [
    "m = list(map(int,input('Entet the list elements:').split(' ')))\n",
    "lst = [i for i in range(1,len(m))]\n",
    "missing = []\n",
    "for i in lst:\n",
    "    if i not in m:\n",
    "        missing.append(i)\n",
    "\n",
    "print('The missing value :')\n",
    "for j in missing:\n",
    "    print(j,end = ' ')"
   ]
  },
  {
   "cell_type": "code",
   "execution_count": 81,
   "metadata": {},
   "outputs": [],
   "source": [
    "def missing(n):\n",
    "    return [x for x in range(n[0],n[-1])\n",
    "           if x not in n]    "
   ]
  },
  {
   "cell_type": "code",
   "execution_count": 82,
   "metadata": {},
   "outputs": [
    {
     "name": "stdout",
     "output_type": "stream",
     "text": [
      "1 2 4 5 6 7 8 9 11\n"
     ]
    },
    {
     "data": {
      "text/plain": [
       "[3, 10]"
      ]
     },
     "execution_count": 82,
     "metadata": {},
     "output_type": "execute_result"
    }
   ],
   "source": [
    "n = list(map(int,input().split(' ')))\n",
    "missing(n)"
   ]
  },
  {
   "cell_type": "markdown",
   "metadata": {},
   "source": [
    "## With a given list L, write a program to print this list L after removing all duplicate values with original order reserved.\n"
   ]
  },
  {
   "cell_type": "code",
   "execution_count": 87,
   "metadata": {},
   "outputs": [
    {
     "name": "stdout",
     "output_type": "stream",
     "text": [
      "Enter the list elements :12 24 35 24 88 120 155 88 120 155\n",
      "The original list : [12, 24, 35, 24, 88, 120, 155, 88, 120, 155]\n",
      "The list after removing the duplicates:\n",
      "12 24 35 88 120 155 "
     ]
    }
   ],
   "source": [
    "List = list(map(int,input('Enter the list elements :').split(' ')))\n",
    "print('The original list :',List)\n",
    "L = []\n",
    "for i in List:\n",
    "    if i not in L:\n",
    "        L.append(i)\n",
    "\n",
    "print('The list after removing the duplicates:')\n",
    "for i in L:\n",
    "    print(i,end = ' ')"
   ]
  },
  {
   "cell_type": "code",
   "execution_count": 89,
   "metadata": {},
   "outputs": [
    {
     "name": "stdout",
     "output_type": "stream",
     "text": [
      "Enter the list elements :12 24 35 24 88 120 155 88 120 155\n",
      "12 24 35 88 120 155 "
     ]
    }
   ],
   "source": [
    "L = list(map(int,input(\"Enter the list elements :\").split(' ')))\n",
    "L = dict.fromkeys(L)\n",
    "for i in L:\n",
    "    print(i, end = ' ')"
   ]
  },
  {
   "cell_type": "code",
   "execution_count": null,
   "metadata": {},
   "outputs": [],
   "source": []
  },
  {
   "cell_type": "code",
   "execution_count": null,
   "metadata": {},
   "outputs": [],
   "source": []
  },
  {
   "cell_type": "code",
   "execution_count": null,
   "metadata": {},
   "outputs": [],
   "source": []
  },
  {
   "cell_type": "code",
   "execution_count": null,
   "metadata": {},
   "outputs": [],
   "source": []
  },
  {
   "cell_type": "code",
   "execution_count": null,
   "metadata": {},
   "outputs": [],
   "source": []
  },
  {
   "cell_type": "code",
   "execution_count": null,
   "metadata": {},
   "outputs": [],
   "source": []
  },
  {
   "cell_type": "code",
   "execution_count": null,
   "metadata": {},
   "outputs": [],
   "source": []
  },
  {
   "cell_type": "code",
   "execution_count": null,
   "metadata": {},
   "outputs": [],
   "source": []
  }
 ],
 "metadata": {
  "kernelspec": {
   "display_name": "Python 3",
   "language": "python",
   "name": "python3"
  },
  "language_info": {
   "codemirror_mode": {
    "name": "ipython",
    "version": 3
   },
   "file_extension": ".py",
   "mimetype": "text/x-python",
   "name": "python",
   "nbconvert_exporter": "python",
   "pygments_lexer": "ipython3",
   "version": "3.7.7"
  },
  "toc": {
   "base_numbering": 1,
   "nav_menu": {},
   "number_sections": true,
   "sideBar": true,
   "skip_h1_title": false,
   "title_cell": "Table of Contents",
   "title_sidebar": "Contents",
   "toc_cell": false,
   "toc_position": {},
   "toc_section_display": true,
   "toc_window_display": false
  }
 },
 "nbformat": 4,
 "nbformat_minor": 4
}
