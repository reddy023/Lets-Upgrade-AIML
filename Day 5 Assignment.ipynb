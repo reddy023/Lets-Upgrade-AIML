{
 "cells": [
  {
   "cell_type": "markdown",
   "metadata": {},
   "source": [
    "# LetUpgrade Day5 Assignment"
   ]
  },
  {
   "cell_type": "markdown",
   "metadata": {},
   "source": [
    "## Write a Python program to find the first 20 non-even prime natural numbers."
   ]
  },
  {
   "cell_type": "code",
   "execution_count": 42,
   "metadata": {},
   "outputs": [
    {
     "name": "stdout",
     "output_type": "stream",
     "text": [
      "First 20 non even prime natural number are :\n",
      "3  5  7  11  13  17  19  23  29  31  37  41  43  47  53  59  61  67  71  73  "
     ]
    }
   ],
   "source": [
    "lower = 3\n",
    "upper = 76\n",
    "\n",
    "print(\"First 20 non even prime natural number are :\")\n",
    "\n",
    "for num in range(lower, upper + 1):\n",
    "   # all prime numbers are greater than 1\n",
    "   if num > 1:\n",
    "       for i in range(2, num):\n",
    "           if (num % i) == 0:\n",
    "                break\n",
    "       else:\n",
    "           print(num, end = \"  \")"
   ]
  },
  {
   "cell_type": "markdown",
   "metadata": {},
   "source": [
    "## Write a Python program to implement 15 functions of string."
   ]
  },
  {
   "cell_type": "code",
   "execution_count": 43,
   "metadata": {},
   "outputs": [
    {
     "name": "stdout",
     "output_type": "stream",
     "text": [
      "I love my India\n"
     ]
    }
   ],
   "source": [
    "mystring = 'I love my India'\n",
    "print(mystring)"
   ]
  },
  {
   "cell_type": "code",
   "execution_count": 58,
   "metadata": {},
   "outputs": [
    {
     "name": "stdout",
     "output_type": "stream",
     "text": [
      "15\n",
      "True\n",
      "['I', 'love', 'my', 'India']\n",
      "I LOVE MY INDIA\n",
      "i love my india\n",
      "I Love My India\n",
      "I love my india\n",
      "i LOVE MY iNDIA\n",
      "I love my Country\n",
      "10\n",
      "i love my india\n",
      "7\n",
      "False\n",
      "False\n",
      "I love my India\n"
     ]
    }
   ],
   "source": [
    "# string functions\n",
    "print(len(mystring))   # gives the length of the string\n",
    "print(bool(mystring))  # gives the True or False \n",
    "print(mystring.split(' ')) # splits the string based on the argument passed to the split function\n",
    "print(mystring.upper()) # converts string to upper case\n",
    "print(mystring.lower()) # converts string to lower case\n",
    "print(mystring.title()) # returns a string which has first letter in each word is uppercase and all remaining letters are lowercase.\n",
    "print(mystring.capitalize()) #returns the capitalized version of the string.\\\n",
    "print(mystring.swapcase())  # returns a string where all the upper case letters are lower case and vice versa.\n",
    "print(mystring.replace('India','Country')) # replaces 'India' with 'Country'\n",
    "print(mystring.index('India')) #finds the first occurrence of the specified value.\n",
    "print(mystring.casefold())  #returns a string where all the characters are lower case\n",
    "print(mystring.find('my')) #finds the first occurrence of the specified value.\n",
    "print(mystring.isalnum())  # checks if the string is an alphnumeric are not\n",
    "print(mystring.isspace()) #Check if all the characters in the text are whitespaces\n",
    "print(mystring.strip())  # removes white space at the begining and end of the string"
   ]
  },
  {
   "cell_type": "markdown",
   "metadata": {},
   "source": [
    "## Write a Python program to check if the given string is a Palindrome or Anagram or None of them.Display the message accordingly to the user. "
   ]
  },
  {
   "cell_type": "code",
   "execution_count": 43,
   "metadata": {},
   "outputs": [
    {
     "name": "stdout",
     "output_type": "stream",
     "text": [
      "Strings are anagram of each other.\n"
     ]
    }
   ],
   "source": [
    "string = 'listen'\n",
    "count =0\n",
    "for i in string:\n",
    "    for j in string:\n",
    "        if i==j:\n",
    "            count+=1\n",
    "if count == len(string):\n",
    "        print('Strings are anagram of each other.')\n",
    "elif string == string[::-1]:\n",
    "    print(\"The string is a palindrome\")\n",
    "else:\n",
    "    print('None of them')"
   ]
  },
  {
   "cell_type": "code",
   "execution_count": 108,
   "metadata": {},
   "outputs": [
    {
     "name": "stdout",
     "output_type": "stream",
     "text": [
      "The String is a palindrome\n"
     ]
    }
   ],
   "source": [
    "string = 'malayalam'\n",
    "count =0\n",
    "for i in string:\n",
    "    for j in string:\n",
    "        if i==j:\n",
    "            count+=1\n",
    "if count == len(string):\n",
    "        print('Strings are anagram of each other.')\n",
    "elif string == string[::-1]:\n",
    "    print(\"The String is a palindrome\")\n",
    "else:\n",
    "    print('None of them')"
   ]
  },
  {
   "cell_type": "code",
   "execution_count": 112,
   "metadata": {},
   "outputs": [
    {
     "name": "stdout",
     "output_type": "stream",
     "text": [
      "None of them\n"
     ]
    }
   ],
   "source": [
    "string = 'Reddy'\n",
    "count =0\n",
    "for i in string:\n",
    "    for j in string:\n",
    "        if i==j:\n",
    "            count+=1\n",
    "if count == len(string):\n",
    "        print('Strings are anagram of each other.')\n",
    "elif string == string[::-1]:\n",
    "    print(\"The String is a palindrome\")\n",
    "else:\n",
    "    print('None of them')"
   ]
  },
  {
   "cell_type": "markdown",
   "metadata": {},
   "source": [
    "## Write a Python's user defined function that removes all the additional characters from the string and converts it finally to lower case using built-in lower(). eg: If the string is \"Dr. Darshan Ingle @AI-ML Trainer\", then the output be \"drdarshaningleaimltrainer\".\n"
   ]
  },
  {
   "cell_type": "code",
   "execution_count": 14,
   "metadata": {},
   "outputs": [],
   "source": [
    "my_string = list('abcdefghijlmnopqrstuvwxyzABCDEFGHIJKLMNOPQRSTUVWXYZ0123456789')\n",
    "\n",
    "def remove_special(value = \"\"):\n",
    "    for element in value:\n",
    "        if element not in my_string:\n",
    "            value = value.replace(element,'')\n",
    "    return(value.lower())"
   ]
  },
  {
   "cell_type": "code",
   "execution_count": 15,
   "metadata": {},
   "outputs": [
    {
     "name": "stdout",
     "output_type": "stream",
     "text": [
      "sudhareddy\n"
     ]
    }
   ],
   "source": [
    "print(remove_special(\"S!u£d$h%A^ R&E*d(d)Y!:)\"))"
   ]
  },
  {
   "cell_type": "code",
   "execution_count": 16,
   "metadata": {},
   "outputs": [
    {
     "name": "stdout",
     "output_type": "stream",
     "text": [
      "drdarshaningleaimltrainer\n"
     ]
    }
   ],
   "source": [
    "print(remove_special('Dr. Darshan Ingle @AI-ML Trainer'))"
   ]
  },
  {
   "cell_type": "code",
   "execution_count": null,
   "metadata": {},
   "outputs": [],
   "source": []
  },
  {
   "cell_type": "code",
   "execution_count": null,
   "metadata": {},
   "outputs": [],
   "source": []
  },
  {
   "cell_type": "code",
   "execution_count": null,
   "metadata": {},
   "outputs": [],
   "source": []
  },
  {
   "cell_type": "code",
   "execution_count": null,
   "metadata": {},
   "outputs": [],
   "source": []
  }
 ],
 "metadata": {
  "kernelspec": {
   "display_name": "Python 3",
   "language": "python",
   "name": "python3"
  },
  "language_info": {
   "codemirror_mode": {
    "name": "ipython",
    "version": 3
   },
   "file_extension": ".py",
   "mimetype": "text/x-python",
   "name": "python",
   "nbconvert_exporter": "python",
   "pygments_lexer": "ipython3",
   "version": "3.7.7"
  },
  "toc": {
   "base_numbering": 1,
   "nav_menu": {},
   "number_sections": true,
   "sideBar": true,
   "skip_h1_title": false,
   "title_cell": "Table of Contents",
   "title_sidebar": "Contents",
   "toc_cell": false,
   "toc_position": {},
   "toc_section_display": true,
   "toc_window_display": false
  }
 },
 "nbformat": 4,
 "nbformat_minor": 4
}
